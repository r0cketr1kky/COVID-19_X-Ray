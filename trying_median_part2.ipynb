{
  "nbformat": 4,
  "nbformat_minor": 0,
  "metadata": {
    "colab": {
      "name": "Copy of trying_median.ipynb",
      "provenance": [],
      "collapsed_sections": [],
      "authorship_tag": "ABX9TyOfDFmfoEAZJV7+kn5UeDVb",
      "include_colab_link": true
    },
    "kernelspec": {
      "name": "python3",
      "display_name": "Python 3"
    }
  },
  "cells": [
    {
      "cell_type": "markdown",
      "metadata": {
        "id": "view-in-github",
        "colab_type": "text"
      },
      "source": [
        "<a href=\"https://colab.research.google.com/github/r0cketr1kky/COVID-19_X-Ray/blob/master/trying_median_part2.ipynb\" target=\"_parent\"><img src=\"https://colab.research.google.com/assets/colab-badge.svg\" alt=\"Open In Colab\"/></a>"
      ]
    },
    {
      "cell_type": "code",
      "metadata": {
        "id": "BiaUXY5VhCtJ",
        "colab_type": "code",
        "colab": {}
      },
      "source": [
        "import numpy as np"
      ],
      "execution_count": 0,
      "outputs": []
    },
    {
      "cell_type": "code",
      "metadata": {
        "id": "nR_ijgIE7Kkt",
        "colab_type": "code",
        "colab": {}
      },
      "source": [
        "class User:\n",
        "  def __init__(self, id, inp):\n",
        "    self.partner_id = id\n",
        "    self.input1 = inp\n",
        "    self.ran = np.random.randint(-2**31, 2**31 - 1)"
      ],
      "execution_count": 0,
      "outputs": []
    },
    {
      "cell_type": "code",
      "metadata": {
        "id": "Ycf-_RYi_Fdy",
        "colab_type": "code",
        "colab": {}
      },
      "source": [
        "class Computations:\n",
        "\n",
        "  def __init__(self, user: User):\n",
        "    self.user = user\n",
        "  \n",
        "  def operation1(self):\n",
        "    out_inp1 = self.user.input1 + self.user.ran\n",
        "    return out_inp1\n",
        "      \n",
        "  def operation2(self):\n",
        "    out_inp2 = self.user.input1 - self.user.ran\n",
        "    return out_inp2  "
      ],
      "execution_count": 0,
      "outputs": []
    },
    {
      "cell_type": "code",
      "metadata": {
        "id": "qv_PuLO9dprb",
        "colab_type": "code",
        "colab": {}
      },
      "source": [
        "beta_values = np.random.beta(0.5, 0.5, 1000) # BETA DISTRIBUTION"
      ],
      "execution_count": 0,
      "outputs": []
    },
    {
      "cell_type": "code",
      "metadata": {
        "id": "y29AU5ClhXAB",
        "colab_type": "code",
        "colab": {}
      },
      "source": [
        "# EACH USER HAS VALUE AS THEIR RESPECTIVE IDs\n",
        "users_list = []\n",
        "for i in range(1000):\n",
        "  users_list.append(User(i, beta_values[i]))\n",
        "#users_list "
      ],
      "execution_count": 0,
      "outputs": []
    },
    {
      "cell_type": "code",
      "metadata": {
        "id": "nJEo4yFPmzFD",
        "colab_type": "code",
        "colab": {}
      },
      "source": [
        "import random"
      ],
      "execution_count": 0,
      "outputs": []
    },
    {
      "cell_type": "code",
      "metadata": {
        "id": "iCF6nxuojmQI",
        "colab_type": "code",
        "colab": {}
      },
      "source": [
        "l = []"
      ],
      "execution_count": 0,
      "outputs": []
    },
    {
      "cell_type": "code",
      "metadata": {
        "id": "WLS7SfbUiACO",
        "colab_type": "code",
        "colab": {}
      },
      "source": [
        "def find_median(users_list):\n",
        "  \n",
        "  x = users_list.pop(random.randint(0,len(users_list)-1)) # RANDOMLY POP AN ELEMENT FROM USERS_LIST\n",
        "  y = users_list.pop(random.randint(0,len(users_list)-1)) # RANDOMLY POP AN ELEMENT FROM USERS_LIST\n",
        "\n",
        "  #print(x.input1, y.input1)\n",
        "  #print(len(users_list))\n",
        "\n",
        "  y.ran = x.ran\n",
        "\n",
        "  val1 = Computations(x).operation1()\n",
        "  val2 = Computations(y).operation2()\n",
        "\n",
        "  l.append(val1)\n",
        "  l.append(val2) # APPENDING VAL1 TO LIST L\n",
        "  \n",
        "  return"
      ],
      "execution_count": 0,
      "outputs": []
    },
    {
      "cell_type": "code",
      "metadata": {
        "id": "moBsmpa-i7YY",
        "colab_type": "code",
        "colab": {}
      },
      "source": [
        "for _ in range(500):\n",
        "  find_median(users_list)"
      ],
      "execution_count": 0,
      "outputs": []
    },
    {
      "cell_type": "code",
      "metadata": {
        "id": "YbmrqyJR0WoH",
        "colab_type": "code",
        "colab": {}
      },
      "source": [
        "lmed = []"
      ],
      "execution_count": 0,
      "outputs": []
    },
    {
      "cell_type": "code",
      "metadata": {
        "id": "45Cf5lYallLn",
        "colab_type": "code",
        "colab": {}
      },
      "source": [
        "m = 0\n",
        "for i in range(1000):\n",
        "  rand = l.pop(random.randint(0,len(l)-1)) # RANDOMLY POP AN ELEMENT FROM LIST L\n",
        "  \n",
        "  #print(r1, r2)\n",
        "\n",
        "  if rand >= 0:\n",
        "    m += 1\n",
        "  else:\n",
        "    m -= 1\n",
        "    \n",
        "  lmed.append(m) # APPROXIMATE MEDIAN FOR EVERY ITERATION"
      ],
      "execution_count": 0,
      "outputs": []
    },
    {
      "cell_type": "code",
      "metadata": {
        "id": "s36WybDfseKC",
        "colab_type": "code",
        "outputId": "18702649-501d-4bfd-bc78-48f40d278305",
        "colab": {
          "base_uri": "https://localhost:8080/",
          "height": 34
        }
      },
      "source": [
        "true_median = np.median(beta_values)\n",
        "print(true_median)"
      ],
      "execution_count": 12,
      "outputs": [
        {
          "output_type": "stream",
          "text": [
            "0.4846835099764018\n"
          ],
          "name": "stdout"
        }
      ]
    },
    {
      "cell_type": "code",
      "metadata": {
        "id": "a0eQvnnf0fyb",
        "colab_type": "code",
        "outputId": "0f4e911c-2849-46a4-d8a7-7243aa5eeb1e",
        "colab": {
          "base_uri": "https://localhost:8080/",
          "height": 265
        }
      },
      "source": [
        "import matplotlib.pyplot as plt\n",
        "\n",
        "plt.plot(lmed)\n",
        "plt.show()"
      ],
      "execution_count": 13,
      "outputs": [
        {
          "output_type": "display_data",
          "data": {
            "image/png": "[encoded data removed]",
            "text/plain": [
              "<Figure size 432x288 with 1 Axes>"
            ]
          },
          "metadata": {
            "tags": [],
            "needs_background": "light"
          }
        }
      ]
    },
    {
      "cell_type": "code",
      "metadata": {
        "id": "4K6tUovJYcWe",
        "colab_type": "code",
        "outputId": "0c5cef4f-1273-4d94-e684-c6b7f8f8c5a7",
        "colab": {
          "base_uri": "https://localhost:8080/",
          "height": 34
        }
      },
      "source": [
        "lmed[len(lmed)-1]"
      ],
      "execution_count": 14,
      "outputs": [
        {
          "output_type": "execute_result",
          "data": {
            "text/plain": [
              "0"
            ]
          },
          "metadata": {
            "tags": []
          },
          "execution_count": 14
        }
      ]
    },
    {
      "cell_type": "code",
      "metadata": {
        "id": "oSVgPyhAA1XX",
        "colab_type": "code",
        "colab": {
          "base_uri": "https://localhost:8080/",
          "height": 54
        },
        "outputId": "724d5522-d22a-4caf-938a-0456c6959d6e"
      },
      "source": [
        "print(lmed)"
      ],
      "execution_count": 15,
      "outputs": [
        {
          "output_type": "stream",
          "text": [
            "[-1, -2, -1, 0, 1, 2, 1, 2, 3, 4, 3, 2, 1, 2, 3, 4, 5, 6, 7, 6, 7, 6, 7, 6, 5, 4, 3, 2, 1, 0, 1, 2, 3, 4, 3, 2, 1, 0, -1, -2, -3, -4, -5, -6, -7, -6, -5, -6, -7, -6, -5, -4, -5, -4, -5, -4, -5, -4, -5, -6, -5, -6, -7, -8, -9, -10, -11, -12, -11, -10, -9, -10, -9, -8, -7, -6, -5, -4, -5, -4, -5, -4, -3, -4, -3, -2, -1, -2, -1, -2, -1, 0, 1, 2, 1, 2, 1, 2, 1, 2, 3, 4, 5, 6, 7, 8, 9, 8, 9, 8, 7, 6, 5, 6, 7, 8, 7, 8, 9, 10, 11, 12, 13, 12, 11, 12, 11, 10, 9, 10, 11, 12, 11, 12, 13, 14, 13, 12, 11, 10, 9, 10, 9, 10, 11, 12, 11, 10, 9, 8, 7, 8, 9, 10, 9, 10, 11, 12, 13, 12, 11, 12, 13, 12, 13, 12, 13, 14, 15, 14, 13, 12, 13, 14, 13, 12, 13, 12, 13, 12, 13, 14, 13, 14, 15, 14, 13, 12, 13, 14, 13, 12, 11, 10, 9, 10, 11, 10, 9, 10, 9, 8, 7, 6, 5, 4, 3, 4, 5, 6, 7, 8, 7, 8, 7, 6, 5, 4, 3, 2, 3, 4, 5, 4, 3, 2, 3, 2, 1, 0, 1, 2, 1, 2, 1, 0, 1, 2, 1, 0, 1, 2, 1, 0, -1, 0, -1, -2, -3, -4, -5, -4, -3, -2, -3, -4, -5, -6, -5, -6, -5, -6, -7, -8, -9, -8, -7, -8, -9, -8, -7, -6, -7, -8, -9, -10, -9, -10, -11, -10, -11, -12, -13, -12, -13, -14, -13, -14, -13, -14, -15, -14, -15, -16, -17, -18, -19, -20, -19, -20, -19, -20, -21, -22, -21, -20, -21, -22, -21, -22, -21, -22, -21, -22, -23, -24, -25, -24, -25, -24, -23, -24, -25, -26, -25, -24, -25, -24, -25, -24, -23, -22, -21, -22, -21, -20, -19, -18, -17, -18, -17, -18, -19, -20, -21, -20, -21, -22, -23, -22, -21, -20, -19, -18, -17, -16, -17, -16, -15, -14, -15, -16, -17, -16, -17, -16, -15, -16, -17, -16, -17, -16, -15, -14, -13, -12, -13, -14, -15, -14, -15, -14, -15, -16, -17, -18, -17, -16, -17, -18, -17, -18, -19, -20, -19, -20, -19, -18, -17, -16, -17, -16, -17, -18, -19, -18, -17, -18, -17, -16, -15, -16, -15, -14, -13, -12, -11, -10, -9, -8, -7, -8, -9, -10, -11, -10, -11, -12, -11, -10, -9, -8, -7, -8, -7, -6, -7, -6, -7, -8, -9, -8, -7, -8, -7, -6, -5, -4, -3, -4, -3, -2, -3, -2, -3, -2, -3, -4, -3, -2, -3, -2, -1, -2, -3, -2, -3, -4, -5, -6, -5, -6, -5, -4, -3, -4, -5, -6, -5, -6, -7, -6, -7, -8, -7, -6, -5, -4, -5, -6, -7, -8, -9, -8, -9, -8, -9, -10, -9, -8, -9, -10, -9, -10, -9, -10, -11, -12, -11, -10, -11, -12, -11, -12, -11, -12, -13, -14, -15, -14, -13, -14, -15, -16, -17, -18, -19, -18, -19, -18, -17, -16, -17, -18, -17, -16, -15, -16, -17, -18, -17, -16, -15, -14, -13, -14, -15, -16, -15, -14, -13, -14, -15, -14, -15, -16, -17, -16, -15, -14, -13, -12, -11, -10, -9, -8, -9, -10, -9, -8, -7, -8, -7, -6, -7, -6, -7, -8, -7, -6, -5, -6, -5, -6, -7, -6, -7, -8, -9, -8, -9, -8, -7, -8, -7, -8, -7, -6, -7, -8, -9, -10, -9, -10, -9, -8, -7, -6, -5, -6, -7, -6, -5, -4, -3, -4, -3, -2, -3, -2, -1, -2, -1, 0, -1, 0, 1, 0, -1, -2, -3, -4, -3, -4, -3, -4, -3, -2, -1, -2, -3, -2, -1, 0, -1, -2, -1, 0, -1, 0, -1, 0, -1, -2, -3, -4, -3, -2, -1, 0, 1, 2, 3, 2, 3, 4, 3, 2, 1, 2, 3, 2, 3, 2, 1, 2, 3, 4, 3, 4, 5, 6, 5, 6, 7, 6, 7, 6, 5, 6, 5, 6, 5, 6, 5, 6, 7, 6, 7, 6, 5, 6, 5, 4, 3, 4, 5, 4, 3, 2, 1, 2, 3, 4, 3, 2, 1, 0, 1, 2, 1, 0, -1, 0, -1, -2, -1, 0, 1, 2, 3, 4, 3, 4, 3, 2, 1, 2, 1, 0, 1, 0, -1, -2, -3, -2, -1, -2, -3, -4, -5, -4, -5, -6, -7, -8, -9, -8, -9, -10, -9, -10, -9, -10, -9, -10, -9, -8, -9, -8, -9, -8, -9, -8, -9, -8, -9, -10, -9, -8, -9, -10, -9, -10, -9, -10, -9, -8, -9, -8, -7, -8, -7, -6, -5, -6, -7, -8, -9, -8, -9, -10, -9, -10, -11, -10, -9, -8, -7, -6, -7, -6, -7, -8, -7, -6, -7, -8, -7, -8, -9, -10, -11, -12, -11, -10, -11, -10, -11, -12, -13, -12, -13, -14, -13, -12, -11, -10, -11, -12, -11, -12, -11, -12, -11, -12, -11, -10, -9, -10, -11, -12, -13, -14, -15, -14, -15, -14, -13, -14, -13, -12, -13, -14, -13, -14, -13, -14, -13, -14, -13, -14, -13, -14, -13, -14, -15, -16, -17, -16, -15, -16, -15, -14, -15, -14, -15, -16, -15, -14, -13, -14, -13, -12, -11, -10, -9, -8, -7, -8, -9, -10, -9, -10, -9, -8, -7, -8, -7, -8, -9, -10, -9, -10, -9, -10, -9, -10, -9, -10, -11, -12, -11, -12, -11, -12, -13, -14, -15, -16, -15, -16, -15, -16, -15, -16, -15, -14, -15, -14, -15, -16, -15, -14, -15, -16, -15, -16, -15, -14, -13, -12, -13, -12, -13, -12, -11, -12, -11, -12, -11, -10, -11, -12, -13, -12, -11, -10, -11, -10, -11, -10, -9, -8, -9, -8, -9, -8, -7, -6, -5, -4, -5, -4, -3, -2, -1, 0, 1, 0, 1, 0, 1, 0, 1, 0, 1, 2, 1, 0]\n"
          ],
          "name": "stdout"
        }
      ]
    },
    {
      "cell_type": "code",
      "metadata": {
        "id": "a-iEOUFfBTCt",
        "colab_type": "code",
        "colab": {
          "base_uri": "https://localhost:8080/",
          "height": 34
        },
        "outputId": "26825c55-31b2-494b-9c65-5806c340d096"
      },
      "source": [
        "print(len(l))"
      ],
      "execution_count": 16,
      "outputs": [
        {
          "output_type": "stream",
          "text": [
            "0\n"
          ],
          "name": "stdout"
        }
      ]
    },
    {
      "cell_type": "code",
      "metadata": {
        "id": "A8o937lFtMNR",
        "colab_type": "code",
        "colab": {}
      },
      "source": [
        "# SO, AS SHOWN ABOVE: \n",
        "# REAL MEDIAN = 0.4846835099764018 \n",
        "# APPROX MEDIAN = 0"
      ],
      "execution_count": 0,
      "outputs": []
    },
    {
      "cell_type": "code",
      "metadata": {
        "id": "bcdOTFcst0EM",
        "colab_type": "code",
        "colab": {}
      },
      "source": [
        "# AS OF NOW, PLEASE IGNORE THE CODE BELOW :')"
      ],
      "execution_count": 0,
      "outputs": []
    },
    {
      "cell_type": "code",
      "metadata": {
        "id": "4Dy-3Y5gO3xb",
        "colab_type": "code",
        "colab": {}
      },
      "source": [
        ""
      ],
      "execution_count": 0,
      "outputs": []
    },
    {
      "cell_type": "code",
      "metadata": {
        "id": "ngZhXhqtO3u8",
        "colab_type": "code",
        "colab": {}
      },
      "source": [
        ""
      ],
      "execution_count": 0,
      "outputs": []
    },
    {
      "cell_type": "code",
      "metadata": {
        "id": "6TqcQvAEO3tC",
        "colab_type": "code",
        "colab": {}
      },
      "source": [
        ""
      ],
      "execution_count": 0,
      "outputs": []
    },
    {
      "cell_type": "code",
      "metadata": {
        "id": "7NsvKJ2wO3pm",
        "colab_type": "code",
        "colab": {}
      },
      "source": [
        ""
      ],
      "execution_count": 0,
      "outputs": []
    },
    {
      "cell_type": "code",
      "metadata": {
        "id": "mEY0AvbeO3nP",
        "colab_type": "code",
        "colab": {}
      },
      "source": [
        ""
      ],
      "execution_count": 0,
      "outputs": []
    },
    {
      "cell_type": "code",
      "metadata": {
        "id": "tKcDiGU2O3lD",
        "colab_type": "code",
        "colab": {}
      },
      "source": [
        ""
      ],
      "execution_count": 0,
      "outputs": []
    },
    {
      "cell_type": "code",
      "metadata": {
        "id": "zFqN1Nm6O3hh",
        "colab_type": "code",
        "colab": {}
      },
      "source": [
        ""
      ],
      "execution_count": 0,
      "outputs": []
    },
    {
      "cell_type": "code",
      "metadata": {
        "id": "pxTaT6zZO3fv",
        "colab_type": "code",
        "colab": {}
      },
      "source": [
        ""
      ],
      "execution_count": 0,
      "outputs": []
    },
    {
      "cell_type": "code",
      "metadata": {
        "id": "x36Gw3WQO3c8",
        "colab_type": "code",
        "colab": {}
      },
      "source": [
        ""
      ],
      "execution_count": 0,
      "outputs": []
    },
    {
      "cell_type": "code",
      "metadata": {
        "id": "apMYMDldtz-6",
        "colab_type": "code",
        "colab": {}
      },
      "source": [
        ""
      ],
      "execution_count": 0,
      "outputs": []
    },
    {
      "cell_type": "code",
      "metadata": {
        "id": "LkZ9aLkztz7-",
        "colab_type": "code",
        "colab": {}
      },
      "source": [
        ""
      ],
      "execution_count": 0,
      "outputs": []
    },
    {
      "cell_type": "code",
      "metadata": {
        "id": "fSXtbIa6tz4w",
        "colab_type": "code",
        "colab": {}
      },
      "source": [
        ""
      ],
      "execution_count": 0,
      "outputs": []
    },
    {
      "cell_type": "code",
      "metadata": {
        "id": "q-i4_-s6txnC",
        "colab_type": "code",
        "colab": {}
      },
      "source": [
        ""
      ],
      "execution_count": 0,
      "outputs": []
    },
    {
      "cell_type": "code",
      "metadata": {
        "id": "m9mjm5yxtxjl",
        "colab_type": "code",
        "colab": {}
      },
      "source": [
        ""
      ],
      "execution_count": 0,
      "outputs": []
    },
    {
      "cell_type": "code",
      "metadata": {
        "id": "Ga5vi4_3txf9",
        "colab_type": "code",
        "colab": {}
      },
      "source": [
        ""
      ],
      "execution_count": 0,
      "outputs": []
    },
    {
      "cell_type": "code",
      "metadata": {
        "id": "l0ERpi4utxct",
        "colab_type": "code",
        "colab": {}
      },
      "source": [
        ""
      ],
      "execution_count": 0,
      "outputs": []
    },
    {
      "cell_type": "code",
      "metadata": {
        "id": "yx2wjOb9txaz",
        "colab_type": "code",
        "colab": {}
      },
      "source": [
        ""
      ],
      "execution_count": 0,
      "outputs": []
    },
    {
      "cell_type": "code",
      "metadata": {
        "id": "T2vhr6TbtxXx",
        "colab_type": "code",
        "colab": {}
      },
      "source": [
        ""
      ],
      "execution_count": 0,
      "outputs": []
    },
    {
      "cell_type": "code",
      "metadata": {
        "id": "hOf8agdctxUy",
        "colab_type": "code",
        "colab": {}
      },
      "source": [
        ""
      ],
      "execution_count": 0,
      "outputs": []
    },
    {
      "cell_type": "code",
      "metadata": {
        "id": "B3iU-asKuwBs",
        "colab_type": "code",
        "colab": {}
      },
      "source": [
        "u1 = []\n",
        "u2 = []\n",
        "u3 = []"
      ],
      "execution_count": 0,
      "outputs": []
    },
    {
      "cell_type": "code",
      "metadata": {
        "id": "jxJqWxzrkDk6",
        "colab_type": "code",
        "colab": {
          "base_uri": "https://localhost:8080/",
          "height": 357
        },
        "outputId": "250817f5-b01c-453e-b25e-8d9770356cdf"
      },
      "source": [
        "for _ in range(1000):\n",
        "  u1.append(find_median(users_list))\n",
        "\n",
        "# REAL MEDIAN PRINTED BELOW: 499.5"
      ],
      "execution_count": 36,
      "outputs": [
        {
          "output_type": "error",
          "ename": "ValueError",
          "evalue": "ignored",
          "traceback": [
            "\u001b[0;31m---------------------------------------------------------------------------\u001b[0m",
            "\u001b[0;31mValueError\u001b[0m                                Traceback (most recent call last)",
            "\u001b[0;32m<ipython-input-36-104283d76292>\u001b[0m in \u001b[0;36m<module>\u001b[0;34m()\u001b[0m\n\u001b[1;32m      1\u001b[0m \u001b[0;32mfor\u001b[0m \u001b[0m_\u001b[0m \u001b[0;32min\u001b[0m \u001b[0mrange\u001b[0m\u001b[0;34m(\u001b[0m\u001b[0;36m1000\u001b[0m\u001b[0;34m)\u001b[0m\u001b[0;34m:\u001b[0m\u001b[0;34m\u001b[0m\u001b[0;34m\u001b[0m\u001b[0m\n\u001b[0;32m----> 2\u001b[0;31m   \u001b[0mu1\u001b[0m\u001b[0;34m.\u001b[0m\u001b[0mappend\u001b[0m\u001b[0;34m(\u001b[0m\u001b[0mfind_median\u001b[0m\u001b[0;34m(\u001b[0m\u001b[0musers_list\u001b[0m\u001b[0;34m)\u001b[0m\u001b[0;34m)\u001b[0m\u001b[0;34m\u001b[0m\u001b[0;34m\u001b[0m\u001b[0m\n\u001b[0m\u001b[1;32m      3\u001b[0m \u001b[0;34m\u001b[0m\u001b[0m\n\u001b[1;32m      4\u001b[0m \u001b[0;31m# REAL MEDIAN PRINTED BELOW: 499.5\u001b[0m\u001b[0;34m\u001b[0m\u001b[0;34m\u001b[0m\u001b[0;34m\u001b[0m\u001b[0m\n",
            "\u001b[0;32m<ipython-input-24-6d92ae1f5115>\u001b[0m in \u001b[0;36mfind_median\u001b[0;34m(users_list)\u001b[0m\n\u001b[1;32m      1\u001b[0m \u001b[0;32mdef\u001b[0m \u001b[0mfind_median\u001b[0m\u001b[0;34m(\u001b[0m\u001b[0musers_list\u001b[0m\u001b[0;34m)\u001b[0m\u001b[0;34m:\u001b[0m\u001b[0;34m\u001b[0m\u001b[0;34m\u001b[0m\u001b[0m\n\u001b[1;32m      2\u001b[0m \u001b[0;34m\u001b[0m\u001b[0m\n\u001b[0;32m----> 3\u001b[0;31m   \u001b[0mx\u001b[0m \u001b[0;34m=\u001b[0m \u001b[0musers_list\u001b[0m\u001b[0;34m.\u001b[0m\u001b[0mpop\u001b[0m\u001b[0;34m(\u001b[0m\u001b[0mrandom\u001b[0m\u001b[0;34m.\u001b[0m\u001b[0mrandint\u001b[0m\u001b[0;34m(\u001b[0m\u001b[0;36m0\u001b[0m\u001b[0;34m,\u001b[0m\u001b[0mlen\u001b[0m\u001b[0;34m(\u001b[0m\u001b[0musers_list\u001b[0m\u001b[0;34m)\u001b[0m\u001b[0;34m-\u001b[0m\u001b[0;36m1\u001b[0m\u001b[0;34m)\u001b[0m\u001b[0;34m)\u001b[0m \u001b[0;31m# RANDOMLY POP AN ELEMENT FROM USERS_LIST\u001b[0m\u001b[0;34m\u001b[0m\u001b[0;34m\u001b[0m\u001b[0m\n\u001b[0m\u001b[1;32m      4\u001b[0m   \u001b[0my\u001b[0m \u001b[0;34m=\u001b[0m \u001b[0musers_list\u001b[0m\u001b[0;34m.\u001b[0m\u001b[0mpop\u001b[0m\u001b[0;34m(\u001b[0m\u001b[0mrandom\u001b[0m\u001b[0;34m.\u001b[0m\u001b[0mrandint\u001b[0m\u001b[0;34m(\u001b[0m\u001b[0;36m0\u001b[0m\u001b[0;34m,\u001b[0m\u001b[0mlen\u001b[0m\u001b[0;34m(\u001b[0m\u001b[0musers_list\u001b[0m\u001b[0;34m)\u001b[0m\u001b[0;34m-\u001b[0m\u001b[0;36m1\u001b[0m\u001b[0;34m)\u001b[0m\u001b[0;34m)\u001b[0m \u001b[0;31m# RANDOMLY POP AN ELEMENT FROM USERS_LIST\u001b[0m\u001b[0;34m\u001b[0m\u001b[0;34m\u001b[0m\u001b[0m\n\u001b[1;32m      5\u001b[0m \u001b[0;34m\u001b[0m\u001b[0m\n",
            "\u001b[0;32m/usr/lib/python3.6/random.py\u001b[0m in \u001b[0;36mrandint\u001b[0;34m(self, a, b)\u001b[0m\n\u001b[1;32m    219\u001b[0m         \"\"\"\n\u001b[1;32m    220\u001b[0m \u001b[0;34m\u001b[0m\u001b[0m\n\u001b[0;32m--> 221\u001b[0;31m         \u001b[0;32mreturn\u001b[0m \u001b[0mself\u001b[0m\u001b[0;34m.\u001b[0m\u001b[0mrandrange\u001b[0m\u001b[0;34m(\u001b[0m\u001b[0ma\u001b[0m\u001b[0;34m,\u001b[0m \u001b[0mb\u001b[0m\u001b[0;34m+\u001b[0m\u001b[0;36m1\u001b[0m\u001b[0;34m)\u001b[0m\u001b[0;34m\u001b[0m\u001b[0;34m\u001b[0m\u001b[0m\n\u001b[0m\u001b[1;32m    222\u001b[0m \u001b[0;34m\u001b[0m\u001b[0m\n\u001b[1;32m    223\u001b[0m     def _randbelow(self, n, int=int, maxsize=1<<BPF, type=type,\n",
            "\u001b[0;32m/usr/lib/python3.6/random.py\u001b[0m in \u001b[0;36mrandrange\u001b[0;34m(self, start, stop, step, _int)\u001b[0m\n\u001b[1;32m    197\u001b[0m             \u001b[0;32mreturn\u001b[0m \u001b[0mistart\u001b[0m \u001b[0;34m+\u001b[0m \u001b[0mself\u001b[0m\u001b[0;34m.\u001b[0m\u001b[0m_randbelow\u001b[0m\u001b[0;34m(\u001b[0m\u001b[0mwidth\u001b[0m\u001b[0;34m)\u001b[0m\u001b[0;34m\u001b[0m\u001b[0;34m\u001b[0m\u001b[0m\n\u001b[1;32m    198\u001b[0m         \u001b[0;32mif\u001b[0m \u001b[0mstep\u001b[0m \u001b[0;34m==\u001b[0m \u001b[0;36m1\u001b[0m\u001b[0;34m:\u001b[0m\u001b[0;34m\u001b[0m\u001b[0;34m\u001b[0m\u001b[0m\n\u001b[0;32m--> 199\u001b[0;31m             \u001b[0;32mraise\u001b[0m \u001b[0mValueError\u001b[0m\u001b[0;34m(\u001b[0m\u001b[0;34m\"empty range for randrange() (%d,%d, %d)\"\u001b[0m \u001b[0;34m%\u001b[0m \u001b[0;34m(\u001b[0m\u001b[0mistart\u001b[0m\u001b[0;34m,\u001b[0m \u001b[0mistop\u001b[0m\u001b[0;34m,\u001b[0m \u001b[0mwidth\u001b[0m\u001b[0;34m)\u001b[0m\u001b[0;34m)\u001b[0m\u001b[0;34m\u001b[0m\u001b[0;34m\u001b[0m\u001b[0m\n\u001b[0m\u001b[1;32m    200\u001b[0m \u001b[0;34m\u001b[0m\u001b[0m\n\u001b[1;32m    201\u001b[0m         \u001b[0;31m# Non-unit step argument supplied.\u001b[0m\u001b[0;34m\u001b[0m\u001b[0;34m\u001b[0m\u001b[0;34m\u001b[0m\u001b[0m\n",
            "\u001b[0;31mValueError\u001b[0m: empty range for randrange() (0,0, 0)"
          ]
        }
      ]
    },
    {
      "cell_type": "code",
      "metadata": {
        "id": "VvmkWYNNvY0V",
        "colab_type": "code",
        "colab": {}
      },
      "source": [
        "u1[:20]\n",
        "# APPROXIMATE MEDIAN BY OUR ALGORITHM"
      ],
      "execution_count": 0,
      "outputs": []
    },
    {
      "cell_type": "code",
      "metadata": {
        "id": "RNPeBKvCmxGK",
        "colab_type": "code",
        "colab": {}
      },
      "source": [
        "user_list1 = []\n",
        "\n",
        "for i in range(1000):\n",
        "    user_list1.append(User(i, -20))"
      ],
      "execution_count": 0,
      "outputs": []
    },
    {
      "cell_type": "code",
      "metadata": {
        "id": "v32ZjUksp_pU",
        "colab_type": "code",
        "colab": {}
      },
      "source": [
        "for _ in range(1000):\n",
        "  u2.append(find_median(user_list1))\n",
        "\n",
        "\n",
        "# REAL MEDIAN PRINTED BELOW: -20.0"
      ],
      "execution_count": 0,
      "outputs": []
    },
    {
      "cell_type": "code",
      "metadata": {
        "id": "5dD0oWKTvhy9",
        "colab_type": "code",
        "colab": {}
      },
      "source": [
        "\n",
        "u2[:100]\n",
        "# APPROXIMATE MEDIAN BY OUR ALGORITHM"
      ],
      "execution_count": 0,
      "outputs": []
    },
    {
      "cell_type": "code",
      "metadata": {
        "id": "_huqqgGFqC2o",
        "colab_type": "code",
        "colab": {}
      },
      "source": [
        "user_list2 = []\n",
        "\n",
        "for i in range(1000):\n",
        "  if i % 2 == 0:\n",
        "    user_list2.append(User(i, -i))\n",
        "  else:\n",
        "    user_list2.append(User(i, i))"
      ],
      "execution_count": 0,
      "outputs": []
    },
    {
      "cell_type": "code",
      "metadata": {
        "id": "bT2l8R5Nr0Q1",
        "colab_type": "code",
        "colab": {}
      },
      "source": [
        "for _ in range(1000):\n",
        "  u3.append(find_median(user_list2))\n",
        "\n",
        "# REAL MEDIAN PRINTED BELOW: 0.5"
      ],
      "execution_count": 0,
      "outputs": []
    },
    {
      "cell_type": "code",
      "metadata": {
        "id": "3ER_o4zmvlk4",
        "colab_type": "code",
        "colab": {}
      },
      "source": [
        "u3[:20]\n",
        "# APPROXIMATE MEDIAN BY OUR ALGORITHM"
      ],
      "execution_count": 0,
      "outputs": []
    },
    {
      "cell_type": "code",
      "metadata": {
        "id": "XQ6mpxXOr-b9",
        "colab_type": "code",
        "colab": {}
      },
      "source": [
        ""
      ],
      "execution_count": 0,
      "outputs": []
    },
    {
      "cell_type": "code",
      "metadata": {
        "id": "wAfLh_u0Qfvn",
        "colab_type": "code",
        "colab": {}
      },
      "source": [
        ""
      ],
      "execution_count": 0,
      "outputs": []
    }
  ]
}